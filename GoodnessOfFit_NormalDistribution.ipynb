{
 "cells": [
  {
   "cell_type": "markdown",
   "id": "2211ded8",
   "metadata": {},
   "source": [
    "## Checeking the goodness of fit for a normal distribution::"
   ]
  },
  {
   "cell_type": "code",
   "execution_count": 1,
   "id": "c43c3a46",
   "metadata": {},
   "outputs": [],
   "source": [
    "import numpy as np\n",
    "import scipy.stats"
   ]
  },
  {
   "cell_type": "code",
   "execution_count": 2,
   "id": "0183d1c2",
   "metadata": {},
   "outputs": [],
   "source": [
    "## example data\n",
    "A = [33,43,44,45,52,56,58,63,64,65,66,68,70,72,73,74,75,83,84,85,86,91,92,94,98,102,105]"
   ]
  },
  {
   "cell_type": "code",
   "execution_count": 3,
   "id": "9ed460cf",
   "metadata": {},
   "outputs": [
    {
     "data": {
      "text/plain": [
       "71.88888888888889"
      ]
     },
     "execution_count": 3,
     "metadata": {},
     "output_type": "execute_result"
    }
   ],
   "source": [
    "mean = np.mean(A)\n",
    "mean"
   ]
  },
  {
   "cell_type": "code",
   "execution_count": 4,
   "id": "ece2e28f",
   "metadata": {},
   "outputs": [
    {
     "data": {
      "text/plain": [
       "18.787965678087335"
      ]
     },
     "execution_count": 4,
     "metadata": {},
     "output_type": "execute_result"
    }
   ],
   "source": [
    "std = np.std(A)\n",
    "std"
   ]
  },
  {
   "cell_type": "code",
   "execution_count": 5,
   "id": "30a34c52",
   "metadata": {},
   "outputs": [],
   "source": [
    "x = 1/6   ## for 6 equal probability intervals"
   ]
  },
  {
   "cell_type": "code",
   "execution_count": 6,
   "id": "5bdc260c",
   "metadata": {},
   "outputs": [
    {
     "name": "stdout",
     "output_type": "stream",
     "text": [
      "[53.71300570872863]\n",
      "[63.79639917311058]\n",
      "[71.88888888888889]\n",
      "[79.98137860466719]\n",
      "[90.06477206904914]\n"
     ]
    }
   ],
   "source": [
    "for j in range(1,6):\n",
    "    prob_intervals = [scipy.stats.norm.ppf(j*x,mean,std)]\n",
    "    print(prob_intervals)"
   ]
  },
  {
   "cell_type": "code",
   "execution_count": 7,
   "id": "82ebf3d7",
   "metadata": {},
   "outputs": [],
   "source": [
    "exp_f = [5,5,5,5,5,5]  ## will divide the normal distribution into 6 intervals at frequency 5 in each"
   ]
  },
  {
   "cell_type": "code",
   "execution_count": 8,
   "id": "c54a6b7b",
   "metadata": {},
   "outputs": [],
   "source": [
    "obs_f = [6,3,6,5,4,6]\n",
    "## In interval 0 to 53.71 we have 6 data\n",
    "## In interval 53.71 to 63.79 we have 3 data and so on....."
   ]
  },
  {
   "cell_type": "code",
   "execution_count": 9,
   "id": "fe28ca16",
   "metadata": {},
   "outputs": [
    {
     "data": {
      "text/plain": [
       "Power_divergenceResult(statistic=1.5999999999999999, pvalue=0.9012493445012737)"
      ]
     },
     "execution_count": 9,
     "metadata": {},
     "output_type": "execute_result"
    }
   ],
   "source": [
    "scipy.stats.chisquare(obs_f,exp_f)"
   ]
  },
  {
   "cell_type": "markdown",
   "id": "037571d9",
   "metadata": {},
   "source": [
    "## Since, value=0.90 > alpha =0.05\n",
    "# This Implies ==> accept Null hypothesis \n",
    "    i.e. our data will follow a normal distribution"
   ]
  }
 ],
 "metadata": {
  "kernelspec": {
   "display_name": "Python 3",
   "language": "python",
   "name": "python3"
  },
  "language_info": {
   "codemirror_mode": {
    "name": "ipython",
    "version": 3
   },
   "file_extension": ".py",
   "mimetype": "text/x-python",
   "name": "python",
   "nbconvert_exporter": "python",
   "pygments_lexer": "ipython3",
   "version": "3.8.8"
  }
 },
 "nbformat": 4,
 "nbformat_minor": 5
}
